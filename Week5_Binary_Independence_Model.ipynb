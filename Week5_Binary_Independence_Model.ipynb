{
  "cells": [
    {
      "cell_type": "markdown",
      "metadata": {
        "id": "view-in-github",
        "colab_type": "text"
      },
      "source": [
        "<a href=\"https://colab.research.google.com/github/NIROHAN/Retrieve/blob/main/Week5_Binary_Independence_Model.ipynb\" target=\"_parent\"><img src=\"https://colab.research.google.com/assets/colab-badge.svg\" alt=\"Open In Colab\"/></a>"
      ]
    },
    {
      "cell_type": "code",
      "execution_count": 3,
      "id": "Qsh2XPttWe2c",
      "metadata": {
        "colab": {
          "base_uri": "https://localhost:8080/"
        },
        "id": "Qsh2XPttWe2c",
        "outputId": "92d4bc33-c6e1-452f-bd51-9bdb9391bb91"
      },
      "outputs": [
        {
          "output_type": "stream",
          "name": "stdout",
          "text": [
            "Drive already mounted at /content/drive; to attempt to forcibly remount, call drive.mount(\"/content/drive\", force_remount=True).\n"
          ]
        }
      ],
      "source": [
        "# Required libraries for handling data, text processing, and mathematical operations\n",
        "from google.colab import drive\n",
        "drive.mount('/content/drive')"
      ]
    },
    {
      "cell_type": "code",
      "execution_count": 4,
      "id": "065c9d42-c418-4acf-8e07-b007cd71eff5",
      "metadata": {
        "id": "065c9d42-c418-4acf-8e07-b007cd71eff5"
      },
      "outputs": [],
      "source": [
        "# Required libraries for handling data, text processing, and mathematical operations\n",
        "import numpy as np\n",
        "import random\n",
        "import re\n",
        "import os\n",
        "from collections import defaultdict\n",
        "from math import log"
      ]
    },
    {
      "cell_type": "code",
      "execution_count": 5,
      "id": "85ea3d8e-ac67-4c2a-a0b8-310d38fee867",
      "metadata": {
        "id": "85ea3d8e-ac67-4c2a-a0b8-310d38fee867"
      },
      "outputs": [],
      "source": [
        "def clean_and_tokenize(text_content):\n",
        "    return re.findall(r'\\b\\w+\\b', text_content.lower())"
      ]
    },
    {
      "cell_type": "code",
      "execution_count": 6,
      "id": "212e1a71-3a24-463a-b7f1-f217e41e6b1e",
      "metadata": {
        "id": "212e1a71-3a24-463a-b7f1-f217e41e6b1e"
      },
      "outputs": [],
      "source": [
        "def load_documents(directory_path):\n",
        "    document_store = {}\n",
        "    for file_name in os.listdir(directory_path):\n",
        "        if file_name.endswith('.txt'):\n",
        "            with open(os.path.join(directory_path, file_name), 'r', encoding='utf-8') as doc_file:\n",
        "                document_store[file_name] = clean_and_tokenize(doc_file.read())\n",
        "\n",
        "    return document_store\n"
      ]
    },
    {
      "cell_type": "code",
      "execution_count": 7,
      "id": "21f24f66-4f00-4fa6-9fd1-221fe9c63dd3",
      "metadata": {
        "id": "21f24f66-4f00-4fa6-9fd1-221fe9c63dd3"
      },
      "outputs": [],
      "source": [
        "def load_queries(query_file_path):\n",
        "    with open(query_file_path, 'r') as query_file:\n",
        "        return [line.strip() for line in query_file.readlines()]"
      ]
    },
    {
      "cell_type": "code",
      "execution_count": 8,
      "id": "cf95cf30-48ca-4db1-ac3a-d989682e524b",
      "metadata": {
        "id": "cf95cf30-48ca-4db1-ac3a-d989682e524b"
      },
      "outputs": [],
      "source": [
        "def calculate_statistics(document_store):\n",
        "    # Initialize statistics tracking\n",
        "    total_docs = len(document_store)\n",
        "    word_doc_frequency = defaultdict(int)\n",
        "    word_frequency = defaultdict(lambda: defaultdict(int))\n",
        "\n",
        "    for doc_name, terms in document_store.items():\n",
        "        unique_terms = set(terms)\n",
        "        for term in terms:\n",
        "            word_frequency[doc_name][term] += 1\n",
        "        for term in unique_terms:\n",
        "            word_doc_frequency[term] += 1\n",
        "\n",
        "    return word_frequency, word_doc_frequency, total_docs"
      ]
    },
    {
      "cell_type": "code",
      "execution_count": 9,
      "id": "7d703181-7ce4-478f-9453-f76a615b726c",
      "metadata": {
        "id": "7d703181-7ce4-478f-9453-f76a615b726c"
      },
      "outputs": [],
      "source": [
        "def compute_relevance_scores(query_terms, word_frequency, word_doc_frequency, total_docs):\n",
        "    relevance_scores = {}\n",
        "    for doc_name in word_frequency:\n",
        "        doc_score = 1.0\n",
        "        for term in query_terms:\n",
        "            term_freq = word_frequency[doc_name].get(term, 0)\n",
        "            doc_freq = word_doc_frequency.get(term, 0)\n",
        "            p_relevant = (term_freq + 1) / (sum(word_frequency[doc_name].values()) + len(word_doc_frequency))\n",
        "            p_not_relevant = (doc_freq + 1) / (total_docs - doc_freq + len(word_doc_frequency))\n",
        "            doc_score *= (p_relevant / p_not_relevant)\n",
        "        relevance_scores[doc_name] = doc_score\n",
        "    return relevance_scores"
      ]
    },
    {
      "cell_type": "code",
      "execution_count": 10,
      "id": "953d96ab-8c6d-48de-a005-42eb1c61ce98",
      "metadata": {
        "id": "953d96ab-8c6d-48de-a005-42eb1c61ce98"
      },
      "outputs": [],
      "source": [
        "def assign_random_relevance(query_list, doc_list, relevance_range=(0, 1)):\n",
        "    random_relevance = {}\n",
        "\n",
        "    for query in query_list:\n",
        "        random_relevance[query] = {}\n",
        "        for document in doc_list:\n",
        "            random_relevance[query][document] = random.randint(relevance_range[0], relevance_range[1])\n",
        "\n",
        "    return random_relevance"
      ]
    },
    {
      "cell_type": "code",
      "execution_count": 11,
      "id": "2343be16-f550-4d44-9ebc-5532d49c5ca1",
      "metadata": {
        "id": "2343be16-f550-4d44-9ebc-5532d49c5ca1"
      },
      "outputs": [],
      "source": [
        "def save_relevance_scores(output_scores, output_file_path):\n",
        "\n",
        "    with open(output_file_path, 'w') as output_file:\n",
        "        for query, doc_scores in output_scores.items():\n",
        "            for doc, score in doc_scores.items():\n",
        "                output_file.write(f\"{query},{doc},{score}\\n\")"
      ]
    },
    {
      "cell_type": "code",
      "execution_count": 12,
      "id": "cf8c0f62-2b5c-4522-bde2-8955059ca477",
      "metadata": {
        "id": "cf8c0f62-2b5c-4522-bde2-8955059ca477"
      },
      "outputs": [],
      "source": [
        "# Main function to process documents and queries for scoring based on Binary Independence Model\n",
        "def run_binary_independence_model(data_directory, query_file):\n",
        "    document_store = load_documents(data_directory)\n",
        "    query_list = load_queries(query_file)\n",
        "\n",
        "\n",
        "    word_frequency, word_doc_frequency, total_docs = calculate_statistics(document_store)\n",
        "\n",
        "\n",
        "    for query in query_list:\n",
        "        query_terms = clean_and_tokenize(query)\n",
        "        relevance_scores = compute_relevance_scores(query_terms, word_frequency, word_doc_frequency, total_docs)\n",
        "        sorted_docs = sorted(relevance_scores.items(), key=lambda item: item[1], reverse=True)\n",
        "        print(f\"Query: {query}\")\n",
        "        for doc_name, score in sorted_docs:\n",
        "            print(f\"Document: {doc_name}, Score: {score:.4f}\")\n",
        "        print()\n",
        "\n",
        "\n",
        "    random_relevance_scores = assign_random_relevance(query_list, document_store.keys())\n",
        "    output_file_name = 'rohan_output.txt'\n",
        "    save_relevance_scores(random_relevance_scores, output_file_name)\n",
        "\n",
        "    print(f\"Relevance scores saved to {output_file_name}\")\n"
      ]
    },
    {
      "cell_type": "code",
      "execution_count": 14,
      "id": "ea7f5a52-8d42-49db-aa6d-2fc80dd86917",
      "metadata": {
        "colab": {
          "base_uri": "https://localhost:8080/"
        },
        "id": "ea7f5a52-8d42-49db-aa6d-2fc80dd86917",
        "outputId": "0a08bb26-744b-4759-9e7b-cf9cda6e5871"
      },
      "outputs": [
        {
          "output_type": "stream",
          "name": "stdout",
          "text": [
            "['Text1.txt', 'text2.txt', 'text3.txt', 'text4.txt', 'text5.txt', 'text6.txt', 'text7.txt', 'text8.txt', 'text9.txt', 'queries.txt']\n"
          ]
        }
      ],
      "source": [
        "print(os.listdir('/content/drive/MyDrive/Dataset/Query'))"
      ]
    },
    {
      "cell_type": "code",
      "execution_count": 16,
      "id": "ded51e32-a16a-4527-9ed3-9d7c6f09ef5a",
      "metadata": {
        "colab": {
          "base_uri": "https://localhost:8080/"
        },
        "id": "ded51e32-a16a-4527-9ed3-9d7c6f09ef5a",
        "outputId": "a1cbf30d-18d8-4a1f-8f4b-ce1a8a8be5a2"
      },
      "outputs": [
        {
          "output_type": "stream",
          "name": "stdout",
          "text": [
            "Query: Foundation\n",
            "Document: Text1.txt, Score: 0.5907\n",
            "Document: queries.txt, Score: 0.5010\n",
            "Document: text6.txt, Score: 0.3879\n",
            "Document: text4.txt, Score: 0.1969\n",
            "Document: text3.txt, Score: 0.1966\n",
            "Document: text5.txt, Score: 0.1960\n",
            "Document: text2.txt, Score: 0.1957\n",
            "Document: text8.txt, Score: 0.1954\n",
            "Document: text7.txt, Score: 0.1951\n",
            "Document: text9.txt, Score: 0.1939\n",
            "\n",
            "Query: Triumph\n",
            "Document: text4.txt, Score: 0.5907\n",
            "Document: queries.txt, Score: 0.5010\n",
            "Document: text3.txt, Score: 0.3932\n",
            "Document: Text1.txt, Score: 0.1969\n",
            "Document: text5.txt, Score: 0.1960\n",
            "Document: text2.txt, Score: 0.1957\n",
            "Document: text8.txt, Score: 0.1954\n",
            "Document: text7.txt, Score: 0.1951\n",
            "Document: text6.txt, Score: 0.1939\n",
            "Document: text9.txt, Score: 0.1939\n",
            "\n",
            "Query: Resilience\n",
            "Document: queries.txt, Score: 0.3327\n",
            "Document: text5.txt, Score: 0.2603\n",
            "Document: text8.txt, Score: 0.2595\n",
            "Document: text7.txt, Score: 0.2591\n",
            "Document: text9.txt, Score: 0.2576\n",
            "Document: Text1.txt, Score: 0.1308\n",
            "Document: text4.txt, Score: 0.1308\n",
            "Document: text3.txt, Score: 0.1306\n",
            "Document: text2.txt, Score: 0.1300\n",
            "Document: text6.txt, Score: 0.1288\n",
            "\n",
            "Query: Dominance\n",
            "Document: queries.txt, Score: 1.0058\n",
            "Document: Text1.txt, Score: 0.3953\n",
            "Document: text4.txt, Score: 0.3953\n",
            "Document: text3.txt, Score: 0.3947\n",
            "Document: text5.txt, Score: 0.3935\n",
            "Document: text2.txt, Score: 0.3929\n",
            "Document: text8.txt, Score: 0.3923\n",
            "Document: text7.txt, Score: 0.3917\n",
            "Document: text6.txt, Score: 0.3894\n",
            "Document: text9.txt, Score: 0.3894\n",
            "\n",
            "Query: Global Impact\n",
            "Document: queries.txt, Score: 0.6731\n",
            "Document: text9.txt, Score: 0.2018\n",
            "Document: Text1.txt, Score: 0.1040\n",
            "Document: text4.txt, Score: 0.1040\n",
            "Document: text3.txt, Score: 0.1037\n",
            "Document: text5.txt, Score: 0.1030\n",
            "Document: text2.txt, Score: 0.1027\n",
            "Document: text8.txt, Score: 0.1024\n",
            "Document: text7.txt, Score: 0.1021\n",
            "Document: text6.txt, Score: 0.1009\n",
            "\n",
            "Relevance scores saved to rohan_output.txt\n"
          ]
        }
      ],
      "source": [
        "folder_location = '/content/drive/MyDrive/Dataset/Query'\n",
        "query_file_location = '/content/drive/MyDrive/Dataset/Query/queries.txt'\n",
        "run_binary_independence_model(folder_location, query_file_location)"
      ]
    }
  ],
  "metadata": {
    "colab": {
      "provenance": [],
      "include_colab_link": true
    },
    "kernelspec": {
      "display_name": "Python 3 (ipykernel)",
      "language": "python",
      "name": "python3"
    },
    "language_info": {
      "codemirror_mode": {
        "name": "ipython",
        "version": 3
      },
      "file_extension": ".py",
      "mimetype": "text/x-python",
      "name": "python",
      "nbconvert_exporter": "python",
      "pygments_lexer": "ipython3",
      "version": "3.11.4"
    }
  },
  "nbformat": 4,
  "nbformat_minor": 5
}